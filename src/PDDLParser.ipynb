{
 "metadata": {
  "name": "PDDLParser"
 },
 "nbformat": 3,
 "nbformat_minor": 0,
 "worksheets": [
  {
   "cells": [
    {
     "cell_type": "code",
     "collapsed": false,
     "input": [
      "%load_ext autoreload\n",
      "%autoreload 2\n",
      "from pddl import parser\n",
      "#from pddl.pddl_world import *"
     ],
     "language": "python",
     "metadata": {},
     "outputs": [
      {
       "output_type": "stream",
       "stream": "stdout",
       "text": [
        "The autoreload extension is already loaded. To reload it, use:\n",
        "  %reload_ext autoreload\n"
       ]
      }
     ],
     "prompt_number": 2
    },
    {
     "cell_type": "code",
     "collapsed": false,
     "input": [
      "domain = parser.parse_domain_file('../pddl/blocksworld-domain-temporal.pddl')\n",
      "domain"
     ],
     "language": "python",
     "metadata": {},
     "outputs": [
      {
       "output_type": "pyout",
       "prompt_number": 3,
       "text": [
        "PDDL Domain\n",
        "Operator Schema: put-block-on-cart\n",
        "   Parameters: ?r ?t ?c\n",
        "   Duration:   [10.000000, 30.000000]\n",
        "   Preconds:   (holding ?r ?t) (clear-cart ?c)\n",
        "   Maint:      (can-reach-cart ?r ?c)\n",
        "   Add Eff:    (empty-gripper ?r) (on-cart ?t ?c) (clear-above ?t)\n",
        "   Del Eff:    (clear-cart ?c) (holding ?r ?t)\n",
        "\n",
        "\n",
        "Operator Schema: pick-up-block-from-cart\n",
        "   Parameters: ?r ?t ?c\n",
        "   Duration:   [10.000000, 30.000000]\n",
        "   Preconds:   (clear-above ?t) (empty-gripper ?r) (on-cart ?t ?c)\n",
        "   Maint:      (can-reach ?r ?t)\n",
        "   Add Eff:    (holding ?r ?t) (clear-cart ?c)\n",
        "   Del Eff:    (empty-gripper ?r) (on-cart ?t ?c) (clear-above ?t)\n",
        "\n",
        "\n",
        "Operator Schema: pick-up-block-from-ground\n",
        "   Parameters: ?r ?t\n",
        "   Duration:   [10.000000, 30.000000]\n",
        "   Preconds:   (clear-above ?t) (empty-gripper ?r) (on-ground ?t)\n",
        "   Maint:      (can-reach ?r ?t)\n",
        "   Add Eff:    (holding ?r ?t)\n",
        "   Del Eff:    (empty-gripper ?r) (on-ground ?t) (clear-above ?t)\n",
        "\n",
        "\n",
        "Operator Schema: pick-up-block\n",
        "   Parameters: ?r ?t ?b\n",
        "   Duration:   [10.000000, 30.000000]\n",
        "   Preconds:   (clear-above ?t) (empty-gripper ?r) (on ?t ?b)\n",
        "   Maint:      (can-reach ?r ?t)\n",
        "   Add Eff:    (holding ?r ?t) (clear-above ?b)\n",
        "   Del Eff:    (empty-gripper ?r) (on ?t ?b) (clear-above ?t)\n",
        "\n",
        "\n",
        "Operator Schema: put-block-on-ground\n",
        "   Parameters: ?r ?t\n",
        "   Duration:   [20.000000, 40.000000]\n",
        "   Preconds:   (holding ?r ?t)\n",
        "   Maint:      \n",
        "   Add Eff:    (empty-gripper ?r) (on-ground ?t) (clear-above ?t)\n",
        "   Del Eff:    (holding ?r ?t)\n",
        "\n",
        "\n",
        "Operator Schema: stack-block\n",
        "   Parameters: ?r ?t ?b\n",
        "   Duration:   [10.000000, 30.000000]\n",
        "   Preconds:   (holding ?r ?t) (clear-above ?b)\n",
        "   Maint:      \n",
        "   Add Eff:    (empty-gripper ?r) (on ?t ?b) (clear-above ?t)\n",
        "   Del Eff:    (clear-above ?b) (holding ?r ?t)\n",
        "\n",
        "\n",
        "Predicate Schemas:\n",
        "     (clear-cart ?c)\n",
        "     (on ?t ?b)\n",
        "     (can-reach-cart ?r ?c)\n",
        "     (empty-gripper ?r)\n",
        "     (can-reach ?r ?t)\n",
        "     (on-ground ?t)\n",
        "     (on-cart ?t ?c)\n",
        "     (holding ?r ?t)\n",
        "     (clear-above ?t)\n"
       ]
      }
     ],
     "prompt_number": 3
    },
    {
     "cell_type": "code",
     "collapsed": false,
     "input": [
      "problem = parser.parse_problem_file('../pddl/blocksworld-problem.pddl')\n",
      "problem"
     ],
     "language": "python",
     "metadata": {},
     "outputs": [
      {
       "output_type": "pyout",
       "prompt_number": 4,
       "text": [
        "PDDL Problem:\n",
        "Objects:\n",
        "     wam7\n",
        "     blueblock\n",
        "     redblock\n",
        "     mediumpinkblock\n",
        "     limeblock\n",
        "     cart\n",
        "Initial Conditions: World State:\n",
        "     (empty-gripper wam7)\n",
        "     (on-ground blueblock)\n",
        "     (can-reach wam7 redblock)\n",
        "     (can-reach wam7 mediumpinkblock)\n",
        "     (can-reach wam7 limeblock)\n",
        "     (can-reach wam7 blueblock)\n",
        "     (can-reach-cart wam7 cart)\n",
        "     (on mediumpinkblock blueblock)\n",
        "     (on-ground limeblock)\n",
        "     (on redblock limeblock)\n",
        "     (clear-above redblock)\n",
        "     (clear-above mediumpinkblock)\n",
        "     (clear-cart cart)\n",
        "Goal Conditions:\n",
        "     (on-cart redblock cart)\n",
        "     (on mediumpinkblock redblock)\n"
       ]
      }
     ],
     "prompt_number": 4
    },
    {
     "cell_type": "code",
     "collapsed": false,
     "input": [
      "op1 = domain.operator_schemas.values()[0]\n",
      "op1"
     ],
     "language": "python",
     "metadata": {},
     "outputs": [
      {
       "output_type": "pyout",
       "prompt_number": 5,
       "text": [
        "Operator Schema: put-block-on-cart\n",
        "   Parameters: ?r ?t ?c\n",
        "   Duration:   [10.000000, 30.000000]\n",
        "   Preconds:   (holding ?r ?t) (clear-cart ?c)\n",
        "   Maint:      (can-reach-cart ?r ?c)\n",
        "   Add Eff:    (empty-gripper ?r) (on-cart ?t ?c) (clear-above ?t)\n",
        "   Del Eff:    (clear-cart ?c) (holding ?r ?t)\n"
       ]
      }
     ],
     "prompt_number": 5
    },
    {
     "cell_type": "code",
     "collapsed": false,
     "input": [
      "problem.objects"
     ],
     "language": "python",
     "metadata": {},
     "outputs": [
      {
       "output_type": "pyout",
       "prompt_number": 27,
       "text": [
        "['wam7', 'blueblock', 'redblock', 'mediumpinkblock', 'limeblock', 'cart']"
       ]
      }
     ],
     "prompt_number": 27
    },
    {
     "cell_type": "code",
     "collapsed": false,
     "input": [
      "# Creating an action step by choosing an operator from the operator list and arguments from the objects list.\n",
      "as1 = ActionStep(op1, [problem.objects[0],problem.objects[2],problem.objects[5]])\n",
      "as1"
     ],
     "language": "python",
     "metadata": {},
     "outputs": [
      {
       "output_type": "pyout",
       "prompt_number": 28,
       "text": [
        "Action Step: (put-block-on-cart wam7 redblock cart)\n",
        "   Preconds:   (holding wam7 redblock) (clear-cart cart)\n",
        "   Maint:      (can-reach-cart wam7 cart)\n",
        "   Add Eff:    (empty-gripper wam7) (on-cart redblock cart) (clear-above redblock)\n",
        "   Del Eff:    (clear-cart cart) (holding wam7 redblock)\n"
       ]
      }
     ],
     "prompt_number": 28
    },
    {
     "cell_type": "code",
     "collapsed": false,
     "input": [
      "iniState = State(problem.initial_conditions.predicates)\n",
      "endState = State(problem.goal_conditions)"
     ],
     "language": "python",
     "metadata": {},
     "outputs": [],
     "prompt_number": 17
    },
    {
     "cell_type": "code",
     "collapsed": false,
     "input": [
      "# Creating an action sequence\n",
      "asec = ActionSequence(iniState, endState)\n",
      "asec.add_action_step(as1)\n",
      "asec.add_action_step(as1)\n",
      "asec"
     ],
     "language": "python",
     "metadata": {},
     "outputs": [
      {
       "output_type": "pyout",
       "prompt_number": 24,
       "text": [
        "Action Sequence:\n",
        "   Initial Conditions: (empty-gripper wam7) (on-ground blueblock) (can-reach wam7 redblock) (can-reach wam7 mediumpinkblock) (can-reach wam7 limeblock) (can-reach wam7 blueblock) (can-reach-cart wam7 cart) (on mediumpinkblock blueblock) (on-ground limeblock) (on redblock limeblock) (clear-above redblock) (clear-above mediumpinkblock) (clear-cart cart)\n",
        "   Step 0: (put-block-on-cart WAM7 redblock myCart)\n",
        "   Step 1: (put-block-on-cart WAM7 redblock myCart)\n",
        "   Goal Conditions: (on-cart redblock cart) (on mediumpinkblock redblock)"
       ]
      }
     ],
     "prompt_number": 24
    },
    {
     "cell_type": "code",
     "collapsed": false,
     "input": [],
     "language": "python",
     "metadata": {},
     "outputs": []
    }
   ],
   "metadata": {}
  }
 ]
}