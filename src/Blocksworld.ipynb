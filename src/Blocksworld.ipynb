{
 "metadata": {
  "name": "Blocksworld"
 },
 "nbformat": 3,
 "nbformat_minor": 0,
 "worksheets": [
  {
   "cells": [
    {
     "cell_type": "code",
     "collapsed": false,
     "input": [
      "from pddl import parser\n",
      "from pddl.pddl_world import *\n",
      "from find_macpo import find_macpo\n"
     ],
     "language": "python",
     "metadata": {},
     "outputs": [],
     "prompt_number": 1
    },
    {
     "cell_type": "code",
     "collapsed": false,
     "input": [
      "domain = parser.parse_domain_file('../pddl/blocksworld-domain.pddl')\n",
      "domain"
     ],
     "language": "python",
     "metadata": {},
     "outputs": [
      {
       "output_type": "stream",
       "stream": "stdout",
       "text": [
        "Error: Malformed predicate!\n"
       ]
      },
      {
       "output_type": "pyout",
       "prompt_number": 2,
       "text": [
        "PDDL Domain\n",
        "Operator Schema: put-block-on-cart\n",
        "   Parameters: ?r-robot ?t-block ?c-cart\n",
        "   Preconds:   (holding ?r ?t) (clear-cart ?c) (can-reach-cart ?r ?c)\n",
        "   Add Eff:    (empty-gripper ?r) (on-cart ?t ?c) (clear-above ?t)\n",
        "   Del Eff:    (holding ?r ?t)\n",
        "\n",
        "\n",
        "Operator Schema: pick-up-block-from-cart\n",
        "   Parameters: ?r-robot ?t-block ?c-cart\n",
        "   Preconds:   (clear-above ?t) (empty-gripper ?r) (can-reach ?r ?t) (on-cart ?t ?c)\n",
        "   Add Eff:    (holding ?r ?t) (clear-cart ?c)\n",
        "   Del Eff:    (empty-gripper ?r) (on-cart ?t ?c) (clear-above ?t)\n",
        "\n",
        "\n",
        "Operator Schema: pick-up-block-from-ground\n",
        "   Parameters: ?r-robot ?t-block\n",
        "   Preconds:   (clear-above ?t) (empty-gripper ?r) (can-reach ?r ?t) (on-ground ?t)\n",
        "   Add Eff:    (holding ?r ?t)\n",
        "   Del Eff:    (empty-gripper ?r) (on-ground ?t) (clear-above ?t)\n",
        "\n",
        "\n",
        "Operator Schema: pick-up-block\n",
        "   Parameters: ?r-robot ?t-block ?b-block\n",
        "   Preconds:   (clear-above ?t) (empty-gripper ?r) (can-reach ?r ?t) (on ?t ?b)\n",
        "   Add Eff:    (holding ?r ?t) (clear-above ?b)\n",
        "   Del Eff:    (empty-gripper ?r) (on ?t ?b) (clear-above ?t)\n",
        "\n",
        "\n",
        "Operator Schema: put-block-on-ground\n",
        "   Parameters: ?r-robot ?t-block\n",
        "   Preconds:   (!!! )\n",
        "   Add Eff:    (empty-gripper ?r) (on-ground ?t) (clear-above ?t)\n",
        "   Del Eff:    (holding ?r ?t)\n",
        "\n",
        "\n",
        "Operator Schema: stack-block\n",
        "   Parameters: ?r-robot ?t-block ?b-block\n",
        "   Preconds:   (holding ?r ?t) (clear-above ?b)\n",
        "   Add Eff:    (empty-gripper ?r) (on ?t ?b) (clear-above ?t)\n",
        "   Del Eff:    (clear-above ?b) (holding ?r ?t)\n",
        "\n",
        "\n",
        "Predicate Schemas:\n",
        "     (clear-cart ?c)\n",
        "     (on ?t ?b)\n",
        "     (can-reach-cart ?r ?c)\n",
        "     (empty-gripper ?r)\n",
        "     (can-reach ?r ?t)\n",
        "     (on-ground ?t)\n",
        "     (on-cart ?t ?c)\n",
        "     (holding ?r ?t)\n",
        "     (clear-above ?t)\n"
       ]
      }
     ],
     "prompt_number": 2
    },
    {
     "cell_type": "code",
     "collapsed": false,
     "input": [
      "problem = parser.parse_problem_file('../pddl/blocksworld-problem.pddl')\n",
      "problem"
     ],
     "language": "python",
     "metadata": {},
     "outputs": [
      {
       "output_type": "pyout",
       "prompt_number": 3,
       "text": [
        "PDDL Problem:\n",
        "Objects:\n",
        "     wam7\n",
        "     blueblock\n",
        "     redblock\n",
        "     mediumpinkblock\n",
        "     limeblock\n",
        "     cart\n",
        "Initial Conditions: World State:\n",
        "     (empty-gripper wam7)\n",
        "     (on-ground blueblock)\n",
        "     (can-reach wam7 redblock)\n",
        "     (can-reach wam7 mediumpinkblock)\n",
        "     (can-reach wam7 limeblock)\n",
        "     (can-reach wam7 blueblock)\n",
        "     (can-reach-cart wam7 cart)\n",
        "     (on mediumpinkblock blueblock)\n",
        "     (on-ground limeblock)\n",
        "     (on redblock limeblock)\n",
        "     (clear-above redblock)\n",
        "     (clear-above mediumpinkblock)\n",
        "     (clear-cart cart)\n",
        "Goal Conditions:\n",
        "     (on-cart redblock cart)\n",
        "     (on-cart mediumpinkblock cart)\n"
       ]
      }
     ],
     "prompt_number": 3
    },
    {
     "cell_type": "code",
     "collapsed": false,
     "input": [
      "put_block_on_cart = domain.operator_schemas['put-block-on-cart']\n",
      "pick_up_block_from_cart = domain.operator_schemas['pick-up-block-from-cart']\n",
      "pick_up_block_from_ground = domain.operator_schemas['pick-up-block-from-ground']\n",
      "pick_up_block = domain.operator_schemas['pick-up-block']\n",
      "put_block_on_ground = domain.operator_schemas['put-block-on-ground']\n",
      "stack_block = domain.operator_schemas['stack-block']\n",
      "\n",
      "wam7 = problem.get_object('wam7').name\n",
      "blueblock= problem.get_object('blueblock').name\n",
      "redblock= problem.get_object('redblock').name\t\t\n",
      "mediumpinkblock= problem.get_object('mediumpinkblock').name\t\t\n",
      "limeblock= problem.get_object('limeblock').name\t\t\n",
      "cart= problem.get_object('cart').name\n",
      "\n"
     ],
     "language": "python",
     "metadata": {},
     "outputs": [],
     "prompt_number": 6
    },
    {
     "cell_type": "code",
     "collapsed": false,
     "input": [
      "iniState = State(problem.initial_conditions.predicates)\n",
      "endState = State(problem.goal_conditions)\n"
     ],
     "language": "python",
     "metadata": {},
     "outputs": [],
     "prompt_number": 7
    },
    {
     "cell_type": "code",
     "collapsed": false,
     "input": [
      "from IPython.core.display import SVG, Image\n",
      "from IPython.display import display, display_svg, display_png\n",
      "from plan_graphs import PartialOrderGraph, TotalOrderGraph\n"
     ],
     "language": "python",
     "metadata": {},
     "outputs": [],
     "prompt_number": 8
    },
    {
     "cell_type": "code",
     "collapsed": false,
     "input": [
      "# Creating an action sequence\n",
      "asec = ActionSequence(iniState, endState)\n",
      "state_sequence = [iniState]\n",
      "state_sequence.append(asec.add_action_step(ActionStep(pick_up_block, [wam7,redblock,limeblock]), state_sequence[-1]))\n",
      "state_sequence.append(asec.add_action_step(ActionStep(put_block_on_cart, [wam7,redblock,cart]), state_sequence[-1]))\n",
      "state_sequence.append(asec.add_action_step(ActionStep(pick_up_block, [wam7,mediumpinkblock,blueblock]), state_sequence[-1]))\n",
      "state_sequence.append(asec.add_action_step(ActionStep(put_block_on_cart, [wam7,mediumpinkblock,cart]), state_sequence[-1]))\n",
      "total_order_graph = TotalOrderGraph(asec)\n",
      "print(asec)\n",
      "display(total_order_graph)"
     ],
     "language": "python",
     "metadata": {},
     "outputs": [
      {
       "output_type": "stream",
       "stream": "stdout",
       "text": [
        "Action Sequence:\n",
        "   Initial Conditions: (empty-gripper wam7) (on-ground blueblock) (can-reach wam7 redblock) (can-reach wam7 mediumpinkblock) (can-reach wam7 limeblock) (can-reach wam7 blueblock) (can-reach-cart wam7 cart) (on mediumpinkblock blueblock) (on-ground limeblock) (on redblock limeblock) (clear-above redblock) (clear-above mediumpinkblock) (clear-cart cart)\n",
        "   Step 0: (pick-up-block wam7 redblock limeblock)\n",
        "   Step 1: (put-block-on-cart wam7 redblock cart)\n",
        "   Step 2: (pick-up-block wam7 mediumpinkblock blueblock)\n",
        "   Step 3: (put-block-on-cart wam7 mediumpinkblock cart)\n",
        "   Goal Conditions: (on-cart redblock cart) (on-cart mediumpinkblock cart)\n"
       ]
      },
      {
       "output_type": "display_data",
       "text": [
        "<plan_graphs.TotalOrderGraph instance at 0x233aea8>"
       ]
      }
     ],
     "prompt_number": 9
    },
    {
     "cell_type": "code",
     "collapsed": false,
     "input": [
      "state_sequence\n"
     ],
     "language": "python",
     "metadata": {},
     "outputs": [
      {
       "output_type": "pyout",
       "prompt_number": 10,
       "text": [
        "[State:\n",
        "   Predicates:   (empty-gripper wam7) (on-ground blueblock) (can-reach wam7 redblock) (can-reach wam7 mediumpinkblock) (can-reach wam7 limeblock) (can-reach wam7 blueblock) (can-reach-cart wam7 cart) (on mediumpinkblock blueblock) (on-ground limeblock) (on redblock limeblock) (clear-above redblock) (clear-above mediumpinkblock) (clear-cart cart)\n",
        ",\n",
        " State:\n",
        "   Predicates:   (on-ground blueblock) (can-reach wam7 redblock) (can-reach wam7 mediumpinkblock) (can-reach wam7 limeblock) (can-reach wam7 blueblock) (can-reach-cart wam7 cart) (on mediumpinkblock blueblock) (on-ground limeblock) (clear-above mediumpinkblock) (clear-cart cart) (holding wam7 redblock) (clear-above limeblock)\n",
        ",\n",
        " State:\n",
        "   Predicates:   (on-ground blueblock) (can-reach wam7 redblock) (can-reach wam7 mediumpinkblock) (can-reach wam7 limeblock) (can-reach wam7 blueblock) (can-reach-cart wam7 cart) (on mediumpinkblock blueblock) (on-ground limeblock) (clear-above mediumpinkblock) (clear-cart cart) (clear-above limeblock) (empty-gripper wam7) (on-cart redblock cart) (clear-above redblock)\n",
        ",\n",
        " State:\n",
        "   Predicates:   (on-ground blueblock) (can-reach wam7 redblock) (can-reach wam7 mediumpinkblock) (can-reach wam7 limeblock) (can-reach wam7 blueblock) (can-reach-cart wam7 cart) (on-ground limeblock) (clear-cart cart) (clear-above limeblock) (on-cart redblock cart) (clear-above redblock) (holding wam7 mediumpinkblock) (clear-above blueblock)\n",
        ",\n",
        " State:\n",
        "   Predicates:   (on-ground blueblock) (can-reach wam7 redblock) (can-reach wam7 mediumpinkblock) (can-reach wam7 limeblock) (can-reach wam7 blueblock) (can-reach-cart wam7 cart) (on-ground limeblock) (clear-cart cart) (clear-above limeblock) (on-cart redblock cart) (clear-above redblock) (clear-above blueblock) (empty-gripper wam7) (on-cart mediumpinkblock cart) (clear-above mediumpinkblock)\n",
        "]"
       ]
      }
     ],
     "prompt_number": 10
    },
    {
     "cell_type": "code",
     "collapsed": false,
     "input": [
      "# Find Partial Order Graph (no threat resolution)\n",
      "po_plan_nothreats = find_macpo(asec, state_sequence, False)\n",
      "print(po_plan_nothreats)\n",
      "po_graph_nothreats = PartialOrderGraph(po_plan_nothreats)\n",
      "display(po_graph_nothreats)"
     ],
     "language": "python",
     "metadata": {},
     "outputs": [
      {
       "output_type": "stream",
       "stream": "stdout",
       "text": [
        "Partial Order Plan: \n",
        "Initial State:\n",
        "   Predicates:   (empty-gripper wam7) (on-ground blueblock) (can-reach wam7 redblock) (can-reach wam7 mediumpinkblock) (can-reach wam7 limeblock) (can-reach wam7 blueblock) (can-reach-cart wam7 cart) (on mediumpinkblock blueblock) (on-ground limeblock) (on redblock limeblock) (clear-above redblock) (clear-above mediumpinkblock) (clear-cart cart)\n",
        "Goal State:\n",
        "   Predicates:   (on-cart redblock cart) (on-cart mediumpinkblock cart)\n",
        "\n",
        "Causal Links: \n",
        "   Causal Link 0: (put-block-on-cart wam7 redblock cart ---((on-cart redblock cart))---> END)\n",
        "   Causal Link 1: (put-block-on-cart wam7 mediumpinkblock cart ---((on-cart mediumpinkblock cart))---> END)\n",
        "   Causal Link 2: (pick-up-block wam7 mediumpinkblock blueblock ---((holding wam7 mediumpinkblock))---> put-block-on-cart wam7 mediumpinkblock cart)\n",
        "   Causal Link 3: (START ---((clear-cart cart))---> put-block-on-cart wam7 mediumpinkblock cart)\n",
        "   Causal Link 4: (START ---((can-reach-cart wam7 cart))---> put-block-on-cart wam7 mediumpinkblock cart)\n",
        "   Causal Link 5: (START ---((clear-above mediumpinkblock))---> pick-up-block wam7 mediumpinkblock blueblock)\n",
        "   Causal Link 6: (put-block-on-cart wam7 redblock cart ---((empty-gripper wam7))---> pick-up-block wam7 mediumpinkblock blueblock)\n",
        "   Causal Link 7: (START ---((can-reach wam7 mediumpinkblock))---> pick-up-block wam7 mediumpinkblock blueblock)\n",
        "   Causal Link 8: (START ---((on mediumpinkblock blueblock))---> pick-up-block wam7 mediumpinkblock blueblock)\n",
        "   Causal Link 9: (pick-up-block wam7 redblock limeblock ---((holding wam7 redblock))---> put-block-on-cart wam7 redblock cart)\n",
        "   Causal Link 10: (START ---((clear-cart cart))---> put-block-on-cart wam7 redblock cart)\n",
        "   Causal Link 11: (START ---((can-reach-cart wam7 cart))---> put-block-on-cart wam7 redblock cart)\n",
        "   Causal Link 12: (START ---((clear-above redblock))---> pick-up-block wam7 redblock limeblock)\n",
        "   Causal Link 13: (START ---((empty-gripper wam7))---> pick-up-block wam7 redblock limeblock)\n",
        "   Causal Link 14: (START ---((can-reach wam7 redblock))---> pick-up-block wam7 redblock limeblock)\n",
        "   Causal Link 15: (START ---((on redblock limeblock))---> pick-up-block wam7 redblock limeblock)\n"
       ]
      },
      {
       "output_type": "display_data",
       "text": [
        "<plan_graphs.PartialOrderGraph instance at 0x2482440>"
       ]
      }
     ],
     "prompt_number": 11
    },
    {
     "cell_type": "code",
     "collapsed": false,
     "input": [
      "# Find Partial Order Graph (threat resolution)\n",
      "po_plan_threats = find_macpo(asec, state_sequence, True)\n",
      "print(po_plan_threats)\n",
      "po_graph_threats = PartialOrderGraph(po_plan_threats)\n",
      "display(po_graph_threats)"
     ],
     "language": "python",
     "metadata": {},
     "outputs": [],
     "prompt_number": "*"
    },
    {
     "cell_type": "code",
     "collapsed": false,
     "input": [],
     "language": "python",
     "metadata": {},
     "outputs": []
    }
   ],
   "metadata": {}
  }
 ]
}