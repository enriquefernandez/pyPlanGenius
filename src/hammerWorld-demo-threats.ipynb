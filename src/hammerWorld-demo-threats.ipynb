{
 "metadata": {
  "name": "hammerWorld-demo-threats"
 },
 "nbformat": 3,
 "nbformat_minor": 0,
 "worksheets": [
  {
   "cells": [
    {
     "cell_type": "code",
     "collapsed": false,
     "input": [
      "%load_ext autoreload\n",
      "%autoreload 2\n",
      "from pddl import parser\n",
      "from pddl.pddl_world import *\n",
      "from find_macpo import find_macpo\n",
      "from IPython.core.display import SVG, Image\n",
      "from IPython.display import display, display_svg, display_png\n",
      "from plan_graphs import PartialOrderGraph, TotalOrderGraph"
     ],
     "language": "python",
     "metadata": {},
     "outputs": []
    },
    {
     "cell_type": "code",
     "collapsed": false,
     "input": [
      "domain = parser.parse_domain_file('../pddl/hammerworld-domain.pddl')\n",
      "problem = parser.parse_problem_file('../pddl/hammerworld-problem-threat.pddl')\n",
      "\n",
      "find_object = domain.operator_schemas['find-object']\n",
      "pickup_object = domain.operator_schemas['pickup-object']\n",
      "hammer_nail = domain.operator_schemas['hammer-nail']\n",
      "store_object = domain.operator_schemas['store-object']\n",
      "eat_something = domain.operator_schemas['eat-something']\n",
      "hammer = problem.get_object('hammer').name\n",
      "nail = problem.get_object('nail').name\n",
      "sandwich = problem.get_object('sandwich').name\n",
      "\n",
      "iniState = State(problem.initial_conditions.predicates)\n",
      "endState = State(problem.goal_conditions)\n",
      "\n",
      "# Creating an action sequence\n",
      "asec = ActionSequence(iniState, endState)\n",
      "state_sequence = [iniState]\n",
      "state_sequence.append(asec.add_action_step(ActionStep(find_object, [hammer]), state_sequence[-1]))\n",
      "state_sequence.append(asec.add_action_step(ActionStep(pickup_object, [hammer]), state_sequence[-1]))\n",
      "state_sequence.append(asec.add_action_step(ActionStep(find_object, [nail]), state_sequence[-1]))\n",
      "state_sequence.append(asec.add_action_step(ActionStep(pickup_object, [nail]), state_sequence[-1]))\n",
      "state_sequence.append(asec.add_action_step(ActionStep(eat_something, [sandwich]), state_sequence[-1]))\n",
      "state_sequence.append(asec.add_action_step(ActionStep(hammer_nail, [hammer, nail]), state_sequence[-1]))\n",
      "state_sequence.append(asec.add_action_step(ActionStep(store_object, [hammer]), state_sequence[-1]))\n",
      "\n",
      "total_order_graph = TotalOrderGraph(asec)\n",
      "#print(asec)\n",
      "#display(total_order_graph)\n",
      "#total_order_graph.save_pdf('output_graphs/to-threats.pdf')\n",
      "#dot_code = total_order_graph.dot_graph.to_string()"
     ],
     "language": "python",
     "metadata": {},
     "outputs": []
    },
    {
     "cell_type": "code",
     "collapsed": false,
     "input": [
      "# Find Partial Order Graph (no threat resolution)\n",
      "po_plan_nothreats = find_macpo(asec, state_sequence, False)\n",
      "print(po_plan_nothreats)\n",
      "po_graph_nothreats = PartialOrderGraph(po_plan_nothreats)\n",
      "display(po_graph_nothreats)\n",
      "#po_graph_nothreats.save_pdf('output_graphs/po-threats-fail.pdf')"
     ],
     "language": "python",
     "metadata": {},
     "outputs": []
    },
    {
     "cell_type": "code",
     "collapsed": false,
     "input": [
      "# Find Partial Order Graph (threat resolution)\n",
      "po_plan_threats = find_macpo(asec, state_sequence, True)\n",
      "print(po_plan_threats)\n",
      "po_graph_threats = PartialOrderGraph(po_plan_threats)\n",
      "display(po_graph_threats)\n",
      "#po_graph_threats.save_pdf('output_graphs/po-threats-ok.pdf')"
     ],
     "language": "python",
     "metadata": {},
     "outputs": []
    }
   ],
   "metadata": {}
  }
 ]
}