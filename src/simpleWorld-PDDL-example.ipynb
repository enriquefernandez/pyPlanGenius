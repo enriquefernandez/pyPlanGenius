{
 "metadata": {
  "name": "simpleWorld-PDDL-example"
 },
 "nbformat": 3,
 "nbformat_minor": 0,
 "worksheets": [
  {
   "cells": [
    {
     "cell_type": "code",
     "collapsed": false,
     "input": [
      "#%load_ext autoreload\n",
      "#%autoreload 2\n",
      "from pddl import parser\n",
      "from pddl.pddl_world import *"
     ],
     "language": "python",
     "metadata": {},
     "outputs": [],
     "prompt_number": 5
    },
    {
     "cell_type": "code",
     "collapsed": false,
     "input": [
      "domain = parser.parse_domain_file('../pddl/simpleworld-domain.pddl')\n",
      "domain"
     ],
     "language": "python",
     "metadata": {},
     "outputs": [
      {
       "output_type": "pyout",
       "prompt_number": 20,
       "text": [
        "PDDL Domain\n",
        "Operator Schema: operator-e\n",
        "   Parameters: ?o\n",
        "   Duration:   [10.000000, 30.000000]\n",
        "   Preconds:   \n",
        "   Maint:      \n",
        "   Add Eff:    (state-e ?o)\n",
        "   Del Eff:    \n",
        "\n",
        "\n",
        "Operator Schema: operator-d\n",
        "   Parameters: ?o\n",
        "   Duration:   [10.000000, 30.000000]\n",
        "   Preconds:   \n",
        "   Maint:      \n",
        "   Add Eff:    (state-d ?o)\n",
        "   Del Eff:    \n",
        "\n",
        "\n",
        "Operator Schema: operator-f\n",
        "   Parameters: ?o\n",
        "   Duration:   [10.000000, 30.000000]\n",
        "   Preconds:   (state-d ?o) (state-c ?o)\n",
        "   Maint:      \n",
        "   Add Eff:    (state-f ?o)\n",
        "   Del Eff:    \n",
        "\n",
        "\n",
        "Operator Schema: operator-a\n",
        "   Parameters: ?o\n",
        "   Duration:   [10.000000, 30.000000]\n",
        "   Preconds:   \n",
        "   Maint:      \n",
        "   Add Eff:    (state-a ?o)\n",
        "   Del Eff:    \n",
        "\n",
        "\n",
        "Operator Schema: operator-c\n",
        "   Parameters: ?o\n",
        "   Duration:   [10.000000, 30.000000]\n",
        "   Preconds:   (state-a ?o) (state-b ?o)\n",
        "   Maint:      \n",
        "   Add Eff:    (state-c ?o)\n",
        "   Del Eff:    \n",
        "\n",
        "\n",
        "Operator Schema: operator-b\n",
        "   Parameters: ?o\n",
        "   Duration:   [10.000000, 30.000000]\n",
        "   Preconds:   \n",
        "   Maint:      \n",
        "   Add Eff:    (state-b ?o)\n",
        "   Del Eff:    \n",
        "\n",
        "\n",
        "Predicate Schemas:\n",
        "     (state-f ?o)\n",
        "     (state-e ?o)\n",
        "     (state-d ?o)\n",
        "     (state-c ?o)\n",
        "     (state-b ?o)\n",
        "     (state-a ?o)\n"
       ]
      }
     ],
     "prompt_number": 20
    },
    {
     "cell_type": "code",
     "collapsed": false,
     "input": [
      "problem = parser.parse_problem_file('../pddl/simpleworld-problem.pddl')\n",
      "problem"
     ],
     "language": "python",
     "metadata": {},
     "outputs": [
      {
       "output_type": "pyout",
       "prompt_number": 21,
       "text": [
        "PDDL Problem:\n",
        "Objects:\n",
        "     x\n",
        "Initial Conditions: World State:\n",
        "Goal Conditions:\n",
        "     (state-f x)\n",
        "     (state-e x)\n"
       ]
      }
     ],
     "prompt_number": 21
    },
    {
     "cell_type": "code",
     "collapsed": false,
     "input": [
      "opa = domain.operator_schemas['operator-a']\n",
      "opb = domain.operator_schemas['operator-b']\n",
      "opc = domain.operator_schemas['operator-c']\n",
      "opd = domain.operator_schemas['operator-d']\n",
      "ope = domain.operator_schemas['operator-e']\n",
      "opf = domain.operator_schemas['operator-f']\n",
      "x = problem.objects[0]"
     ],
     "language": "python",
     "metadata": {},
     "outputs": [],
     "prompt_number": 23
    },
    {
     "cell_type": "code",
     "collapsed": false,
     "input": [
      "iniState = State(problem.initial_conditions.predicates)\n",
      "endState = State(problem.goal_conditions)"
     ],
     "language": "python",
     "metadata": {},
     "outputs": [],
     "prompt_number": 12
    },
    {
     "cell_type": "code",
     "collapsed": false,
     "input": [
      "# Creating an action sequence\n",
      "asec = ActionSequence(iniState, endState)\n",
      "asec.add_action_step(ActionStep(opa, x))\n",
      "asec.add_action_step(ActionStep(opb, x))\n",
      "asec.add_action_step(ActionStep(opc, x))\n",
      "asec.add_action_step(ActionStep(opd, x))\n",
      "asec.add_action_step(ActionStep(opf, x))\n",
      "asec.add_action_step(ActionStep(ope, x))\n",
      "asec"
     ],
     "language": "python",
     "metadata": {},
     "outputs": [
      {
       "output_type": "pyout",
       "prompt_number": 25,
       "text": [
        "Action Sequence:\n",
        "   Initial Conditions: \n",
        "   Step 0: (operator-a x)\n",
        "   Step 1: (operator-b x)\n",
        "   Step 2: (operator-c x)\n",
        "   Step 3: (operator-d x)\n",
        "   Step 4: (operator-f x)\n",
        "   Step 5: (operator-e x)\n",
        "   Goal Conditions: (state-f x)"
       ]
      }
     ],
     "prompt_number": 25
    },
    {
     "cell_type": "code",
     "collapsed": false,
     "input": [],
     "language": "python",
     "metadata": {},
     "outputs": []
    }
   ],
   "metadata": {}
  }
 ]
}